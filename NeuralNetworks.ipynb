{
 "cells": [
  {
   "cell_type": "code",
   "execution_count": null,
   "metadata": {},
   "outputs": [],
   "source": [
    "import numpy as np\n",
    "import matplotlib.pyplot as plt\n",
    "from sklearn.datasets import load_diabetes"
   ]
  },
  {
   "attachments": {},
   "cell_type": "markdown",
   "metadata": {},
   "source": [
    "Activation Functions"
   ]
  },
  {
   "cell_type": "code",
   "execution_count": 3,
   "metadata": {},
   "outputs": [],
   "source": [
    "# Heaviside step function \n",
    "\n",
    "def heavyside(x):\n",
    "    if (x >= 0):\n",
    "        return 1\n",
    "    else :\n",
    "        return 0\n",
    "        \n",
    "# Rectified error Linear Unit function\n",
    "\n",
    "def relu(x):\n",
    "    return max(0,x)\n",
    "\n",
    "# Sigmoid function\n",
    "\n",
    "def sigmoid(x):\n",
    "    return 1/(1+np.e^{-x})\n",
    "\n",
    "# Gassian error Linear Unit GeLU function"
   ]
  },
  {
   "cell_type": "code",
   "execution_count": 6,
   "metadata": {},
   "outputs": [],
   "source": [
    "class Perceptron :\n",
    "    def __init__(self, w, b, x):\n",
    "        self.w = w\n",
    "        self.b= b\n",
    "        self.x = x\n",
    "\n",
    "    def out(self):\n",
    "        return self.w @ self.x + self.b\n",
    "    \n",
    "    def magnitude(self):\n",
    "        return (np.sum(self.w**2))**0.5\n",
    "\n",
    "class NeuralNetwork :\n",
    "    def __init__(self, nof_layers, layers_sizes, inputs):\n",
    "        self.nof_layers = nof_layers\n",
    "        self.layers_sizes = layers_sizes\n",
    "        self.layers = []\n",
    "        for i in range(nof_layers):\n",
    "            perceptrons = []\n",
    "            for j in range(layers_sizes[i]):\n",
    "                inps = np.empty(layers_sizes[i-1])\n",
    "                for k in range(layers_sizes[i-1]):\n",
    "                    inps[k] = self.layers[i-1][k].out()\n",
    "                newPerceptron = Perceptron(np.random.rand(layers_sizes[i-1]),-10,inps)\n",
    "                perceptrons.append(newPerceptron)\n",
    "            self.layers.append(perceptrons)\n",
    "    \n",
    "    def out(self):\n",
    "        for i in range(self.nof_layers):\n",
    "            for j in range(self.layers_sizes[i]):\n",
    "                self.layers[i][j].out()\n",
    "        return self.layers[-1].out()"
   ]
  },
  {
   "cell_type": "code",
   "execution_count": 7,
   "metadata": {},
   "outputs": [],
   "source": [
    "nn = NeuralNetwork(3,[4,5,6])"
   ]
  }
 ],
 "metadata": {
  "kernelspec": {
   "display_name": "Python 3",
   "language": "python",
   "name": "python3"
  },
  "language_info": {
   "codemirror_mode": {
    "name": "ipython",
    "version": 3
   },
   "file_extension": ".py",
   "mimetype": "text/x-python",
   "name": "python",
   "nbconvert_exporter": "python",
   "pygments_lexer": "ipython3",
   "version": "3.11.1"
  },
  "orig_nbformat": 4,
  "vscode": {
   "interpreter": {
    "hash": "aee8b7b246df8f9039afb4144a1f6fd8d2ca17a180786b69acc140d282b71a49"
   }
  }
 },
 "nbformat": 4,
 "nbformat_minor": 2
}
