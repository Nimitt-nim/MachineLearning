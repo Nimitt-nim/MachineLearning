{
 "cells": [
  {
   "cell_type": "code",
   "execution_count": 263,
   "metadata": {},
   "outputs": [],
   "source": [
    "import numpy as np\n",
    "import matplotlib.pyplot as plt\n",
    "from sklearn.datasets import load_diabetes\n",
    "from sklearn.metrics import mean_squared_error\n",
    "from sklearn.model_selection import train_test_split"
   ]
  },
  {
   "attachments": {},
   "cell_type": "markdown",
   "metadata": {},
   "source": [
    "Activation Functions"
   ]
  },
  {
   "cell_type": "code",
   "execution_count": 264,
   "metadata": {},
   "outputs": [],
   "source": [
    "# Heaviside step function \n",
    "\n",
    "def heavyside(x):\n",
    "    if (x >= 0):\n",
    "        return 1\n",
    "    else :\n",
    "        return 0\n",
    "        \n",
    "# Rectified error Linear Unit function\n",
    "\n",
    "def relu(x):\n",
    "    return max(0,x)\n",
    "\n",
    "# Sigmoid function\n",
    "\n",
    "def sigmoid(x):\n",
    "    return 1/(1+np.exp(-x))\n",
    "\n",
    "# Gassian error Linear Unit GeLU function"
   ]
  },
  {
   "attachments": {},
   "cell_type": "markdown",
   "metadata": {},
   "source": [
    "Neural Network"
   ]
  },
  {
   "cell_type": "code",
   "execution_count": 265,
   "metadata": {},
   "outputs": [],
   "source": [
    "class Perceptron :\n",
    "    \n",
    "    def __init__(self, w, b):\n",
    "        self.w = w\n",
    "        self.b= b\n",
    "\n",
    "    def activation(self, t):\n",
    "        return 1/(1+np.exp(-t))\n",
    "\n",
    "    def out(self, x):\n",
    "        return self.activation(np.sum(self.w * x) + self.b)\n",
    "    \n",
    "    def magnitude(self):\n",
    "        return (np.sum(self.w**2))**0.5\n",
    "\n",
    "class NeuralNetwork :\n",
    "\n",
    "    def __init__(self, X_train):\n",
    "        self.layers = [[]]\n",
    "        self.X = X_train\n",
    "        n = X_train.shape[1]\n",
    "        for i in range(n):     \n",
    "            newPerceptron = Perceptron(np.array(np.random.rand()), np.random.rand())\n",
    "            self.layers[0].append(newPerceptron)\n",
    "\n",
    "    def integrate_layer(self,layer_index, x):\n",
    "        out = []\n",
    "        for perceptron in self.layers[layer_index]:\n",
    "            out.append(perceptron.out(x))\n",
    "        return out \n",
    "    \n",
    "    def add_layer(self, layer_size):\n",
    "        self.layers.append([])\n",
    "        for i in range(layer_size):\n",
    "            newPerceptron = Perceptron(np.random.rand(len(self.layers[-2])), np.random.rand())\n",
    "            self.layers[-1].append(newPerceptron)\n",
    "    \n",
    "    def update_weights(self, layer_index, perceptron_index, w_new):\n",
    "        self.layers[layer_index][perceptron_index].w  = w_new\n",
    "\n",
    "    def update_bias(self, layer_index, perceptron_index, b_new):\n",
    "        self.layers[layer_index][perceptron_index].w  = b_new\n",
    "\n",
    "    def delete_layer(self):\n",
    "        if len(self.layers) > 1:\n",
    "            self.layers.pop()\n",
    "        else :\n",
    "            print(\"No Hidden Layers to delete\")\n",
    "\n",
    "    def train(self):\n",
    "        return\n",
    "\n",
    "    def out(self, X):\n",
    "        l = len(self.layers)\n",
    "        nof_samples = len(X)\n",
    "        len_out = len(self.layers[-1])\n",
    "        outm = np.empty((nof_samples,len_out))\n",
    "        for j in range(nof_samples):\n",
    "            previous_out = self.integrate_layer(0, X[j]).copy()\n",
    "            for i in range(1,l):\n",
    "                current_out = self.integrate_layer(i,previous_out).copy()\n",
    "                previous_out = current_out.copy()\n",
    "            for k in range(len_out):\n",
    "                outm[j][k] = previous_out[k]\n",
    "        \n",
    "        return outm"
   ]
  },
  {
   "cell_type": "code",
   "execution_count": 266,
   "metadata": {},
   "outputs": [],
   "source": [
    "data = load_diabetes()\n",
    "X = data['data']\n",
    "y = data['target']\n",
    "X_train, X_test, y_train, y_test = train_test_split(X,y,test_size=0.2)"
   ]
  },
  {
   "cell_type": "code",
   "execution_count": 267,
   "metadata": {},
   "outputs": [],
   "source": [
    "nn = NeuralNetwork(X_train)\n",
    "nn.add_layer(5)\n",
    "nn.add_layer(6)\n",
    "nn.add_layer(7)\n",
    "nn.add_layer(1)\n",
    "nn.train()"
   ]
  },
  {
   "cell_type": "code",
   "execution_count": 268,
   "metadata": {},
   "outputs": [],
   "source": [
    "y_hat = nn.out(X_test)"
   ]
  },
  {
   "cell_type": "code",
   "execution_count": 269,
   "metadata": {},
   "outputs": [
    {
     "data": {
      "text/plain": [
       "29288.19311463859"
      ]
     },
     "execution_count": 269,
     "metadata": {},
     "output_type": "execute_result"
    }
   ],
   "source": [
    "mean_squared_error(y_hat,y_test)"
   ]
  }
 ],
 "metadata": {
  "kernelspec": {
   "display_name": "Python 3",
   "language": "python",
   "name": "python3"
  },
  "language_info": {
   "codemirror_mode": {
    "name": "ipython",
    "version": 3
   },
   "file_extension": ".py",
   "mimetype": "text/x-python",
   "name": "python",
   "nbconvert_exporter": "python",
   "pygments_lexer": "ipython3",
   "version": "3.11.1"
  },
  "orig_nbformat": 4,
  "vscode": {
   "interpreter": {
    "hash": "aee8b7b246df8f9039afb4144a1f6fd8d2ca17a180786b69acc140d282b71a49"
   }
  }
 },
 "nbformat": 4,
 "nbformat_minor": 2
}
