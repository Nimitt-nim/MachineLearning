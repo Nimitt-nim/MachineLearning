{
 "cells": [
  {
   "cell_type": "code",
   "execution_count": null,
   "metadata": {},
   "outputs": [],
   "source": [
    "import numpy as np\n",
    "import matplotlib.pyplot as plt\n",
    "from sklearn.datasets import load_diabetes"
   ]
  },
  {
   "attachments": {},
   "cell_type": "markdown",
   "metadata": {},
   "source": [
    "Activation Functions"
   ]
  },
  {
   "cell_type": "code",
   "execution_count": 3,
   "metadata": {},
   "outputs": [],
   "source": [
    "# Heaviside step function \n",
    "\n",
    "def heavyside(x):\n",
    "    if (x >= 0):\n",
    "        return 1\n",
    "    else :\n",
    "        return 0\n",
    "        \n",
    "# Rectified error Linear Unit function\n",
    "\n",
    "def relu(x):\n",
    "    return max(0,x)\n",
    "\n",
    "# Sigmoid function\n",
    "\n",
    "def sigmoid(x):\n",
    "    return 1/(1+np.e^{-x})\n",
    "\n",
    "# Gassian error Linear Unit GeLU function"
   ]
  },
  {
   "cell_type": "markdown",
   "metadata": {},
   "source": []
  },
  {
   "cell_type": "code",
   "execution_count": null,
   "metadata": {},
   "outputs": [],
   "source": [
    "\n",
    "\n",
    "def magnitude(w):\n",
    "    return (np.sum(w**2))**0.5"
   ]
  },
  {
   "cell_type": "code",
   "execution_count": 6,
   "metadata": {},
   "outputs": [],
   "source": [
    "class Perceptron :\n",
    "    def __init__(self, w, b):\n",
    "        self.w = w\n",
    "        self.b= b\n",
    "\n",
    "    def integration(w, b, x):\n",
    "        return w @ x + b\n",
    "\n",
    "class NeuralNetwork :\n",
    "    def __init__(self, nof_layers, layers_sizes, inputs):\n",
    "        self.nof_layers = nof_layers\n",
    "        self.layers_sizes = layers_sizes\n",
    "        self.layers = []\n",
    "        for i in range(nof_layers):\n",
    "            perceptrons = []\n",
    "            for i in range(layers_sizes[i]):\n",
    "                newPerceptron = Perceptron([0,0],-10)\n",
    "                perceptrons.append(newPerceptron)\n",
    "            self.layers.append(perceptrons)\n",
    "    \n",
    "    def out(self):\n",
    "        return "
   ]
  },
  {
   "cell_type": "code",
   "execution_count": 7,
   "metadata": {},
   "outputs": [],
   "source": [
    "nn = NeuralNetwork(3,[4,5,6])"
   ]
  }
 ],
 "metadata": {
  "kernelspec": {
   "display_name": "Python 3",
   "language": "python",
   "name": "python3"
  },
  "language_info": {
   "codemirror_mode": {
    "name": "ipython",
    "version": 3
   },
   "file_extension": ".py",
   "mimetype": "text/x-python",
   "name": "python",
   "nbconvert_exporter": "python",
   "pygments_lexer": "ipython3",
   "version": "3.11.1"
  },
  "orig_nbformat": 4,
  "vscode": {
   "interpreter": {
    "hash": "aee8b7b246df8f9039afb4144a1f6fd8d2ca17a180786b69acc140d282b71a49"
   }
  }
 },
 "nbformat": 4,
 "nbformat_minor": 2
}
